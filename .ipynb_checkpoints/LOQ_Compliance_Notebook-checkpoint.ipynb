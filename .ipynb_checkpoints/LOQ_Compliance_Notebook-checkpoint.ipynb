{
 "cells": [
  {
   "cell_type": "markdown",
   "metadata": {},
   "source": [
    "# LOQ COMPLIANCE PROGRAM NOTEBOOK"
   ]
  },
  {
   "cell_type": "markdown",
   "metadata": {},
   "source": [
    "Printing hello world as a test (to check out it exports usable code)"
   ]
  },
  {
   "cell_type": "code",
   "execution_count": null,
   "metadata": {},
   "outputs": [],
   "source": [
    "print(\"Hello World\")"
   ]
  },
  {
   "cell_type": "markdown",
   "metadata": {},
   "source": [
    "Exporting works, so now to list the functions of the program to be created, in order from the most basic to all of the bells and whistles. The most basic options (points 1-XX) are what will be necessary for a \"successful\" program. The options beyond that are the \"bells and whistles\"."
   ]
  },
  {
   "cell_type": "markdown",
   "metadata": {},
   "source": [
    "### The \"Must Haves\":\n",
    "\n",
    "Input by user:\n",
    "\n",
    "1. Total Diet Study `.txt` file, which is tab-delimited and format it to allow for analysis\n",
    "   \n",
    "2. \"Analyte Type\", which will be the column containing the \"Analyte\" that is desired for output\n",
    "   \n",
    "3. \"Analyte\", which is what is being measured in the Total Diet Study\n",
    "   \n",
    "4. Optional: Food Number (ignore if not provided)\n",
    "   \n",
    "5. Optional: New Cut off concentration (default = 0)\n",
    "\n",
    "The program must take all of the above files and parameters and output a new `.txt` file containing only rows that have the Analyte requested.\n",
    "\n",
    "Additional, \"behind the scenes\", processing.\n",
    "\n",
    "1. Do NOT include any rows that contain \"RAP\" (generally in the \"Sample Qualifier\" column)\n",
    "   \n",
    "2. Check the provided LOQ (limit of quantitation) column and compare it with the \"Conc\" (concentration) observed column. If the LOQ is GREATER than the Conc, then the row is not included in the output, as any values below the LOQ cannot be certain.\n",
    "   \n",
    "3. If no new cut off concentration is provided (item #5 from user input), then the program will default to \"zero tolerance\", meaning anything above zero and the LOQ will be output. If a new cut off IS provided, then this will output anything above the new cut off that is also above the LOQ.\n",
    "   \n",
    "4. If the requested new cut off concentration is less than the LOQ, a warning will be printed \"Your requested concentration cut off is less than the LOQ provided for your requested analyte\""
   ]
  },
  {
   "cell_type": "markdown",
   "metadata": {},
   "source": [
    "### The \"Bells and Whistles\":\n",
    "\n",
    "1. Have the option to disallow the progression of the run if the requested concentration cut off is less than the LOQ provided (item #4 in the \"Behind the Scenes\" processing.\n",
    "\n",
    "2. Find and convert any units in the \"Unit\" column that are not `mg/kg`."
   ]
  },
  {
   "cell_type": "code",
   "execution_count": 3,
   "metadata": {},
   "outputs": [
    {
     "name": "stdout",
     "output_type": "stream",
     "text": [
      "3.7.3\n"
     ]
    }
   ],
   "source": [
    "# testing to see what this notebook is running\n",
    "from platform import python_version\n",
    "print(python_version())"
   ]
  },
  {
   "cell_type": "markdown",
   "metadata": {},
   "source": [
    "## THE CODE BEGINS"
   ]
  },
  {
   "cell_type": "markdown",
   "metadata": {},
   "source": [
    "#### Import packages and parse/define arguments"
   ]
  },
  {
   "cell_type": "code",
   "execution_count": 4,
   "metadata": {},
   "outputs": [],
   "source": [
    "# import the necessary packages\n",
    "import csv\n",
    "from pandas import DataFrame\n",
    "import argparse\n",
    "import sys"
   ]
  },
  {
   "cell_type": "code",
   "execution_count": 7,
   "metadata": {},
   "outputs": [
    {
     "name": "stderr",
     "output_type": "stream",
     "text": [
      "usage: ipykernel_launcher.py [-h] --file FILE --analyte ANALYTE --type TYPE\n",
      "                             --out OUT [--number NUMBER] [--cutoff CUTOFF]\n",
      "ipykernel_launcher.py: error: the following arguments are required: --file, --analyte, --type, --out\n"
     ]
    },
    {
     "ename": "SystemExit",
     "evalue": "2",
     "output_type": "error",
     "traceback": [
      "An exception has occurred, use %tb to see the full traceback.\n",
      "\u001b[0;31mSystemExit\u001b[0m\u001b[0;31m:\u001b[0m 2\n"
     ]
    }
   ],
   "source": [
    "# Parsing arguments with argparse\n",
    "parser = argparse.ArgumentParser(description = 'This script allows data selection for various requested analytes from Total Diet Studies at the FDA.')\n",
    "parser.add_argument('--file', required=True, help='The Total Diet Study file to be analyzed.')\n",
    "parser.add_argument('--analyte', required=True, help='The analyte that is to be extracted, e.g. Arsenic.')\n",
    "parser.add_argument('--type', required=True, help='The type of analyte that the Total Diet Study input file is measuring, e.g. Element.')\n",
    "parser.add_argument('--out', required=True, help='The directory where you want output files written.')\n",
    "parser.add_argument('--number', required=False, help='optional: The Food Number associated with a specific food.')\n",
    "parser.add_argument('--cutoff', required=False, help='optional: Specifiy a new cut-off concentration, default=0.')\n",
    "args = parser.parse_args()"
   ]
  },
  {
   "cell_type": "code",
   "execution_count": 8,
   "metadata": {},
   "outputs": [
    {
     "ename": "NameError",
     "evalue": "name 'args' is not defined",
     "output_type": "error",
     "traceback": [
      "\u001b[0;31m---------------------------------------------------------------------------\u001b[0m",
      "\u001b[0;31mNameError\u001b[0m                                 Traceback (most recent call last)",
      "\u001b[0;32m<ipython-input-8-a5454265cc4d>\u001b[0m in \u001b[0;36m<module>\u001b[0;34m\u001b[0m\n\u001b[0;32m----> 1\u001b[0;31m \u001b[0mprint\u001b[0m\u001b[0;34m(\u001b[0m\u001b[0margs\u001b[0m\u001b[0;34m)\u001b[0m\u001b[0;34m\u001b[0m\u001b[0;34m\u001b[0m\u001b[0m\n\u001b[0m",
      "\u001b[0;31mNameError\u001b[0m: name 'args' is not defined"
     ]
    }
   ],
   "source": [
    "# Printing the arguments; this is strictly for testing to make sure argparse worked\n",
    "print(args)"
   ]
  },
  {
   "cell_type": "markdown",
   "metadata": {},
   "source": [
    "Tested argparse by generating `test_argparse.py` in the `tests` folder of the project. Used it by running the following command:\n",
    "\n",
    "\n",
    "`python test_argparse.py --file ~/Desktop/Python_program/Individual\\ Year\\ Analytical\\ Results_0/Elements_2003.txt --analyte Arsenic --type Element --out ~/Desktop/Python_program/LOQ_Compliance/tests/`\n",
    "\n",
    "\n",
    "And retrieved the following output:\n",
    "\n",
    "`Namespace(analyte='Arsenic', cutoff=None, file='/Users/brittany.ott/Desktop/Python_program/Individual Year Analytical Results_0/Elements_2003.txt', number=None, out='/Users/brittany.ott/Desktop/Python_program/LOQ_Compliance/tests/', type='Element')`\n",
    "\n",
    "So, the next step is being able to process the `.txt` file containing our data."
   ]
  },
  {
   "cell_type": "markdown",
   "metadata": {},
   "source": [
    "#### Processing the input file of data"
   ]
  },
  {
   "cell_type": "code",
   "execution_count": null,
   "metadata": {},
   "outputs": [],
   "source": []
  }
 ],
 "metadata": {
  "kernelspec": {
   "display_name": "Python 3",
   "language": "python",
   "name": "python3"
  },
  "language_info": {
   "codemirror_mode": {
    "name": "ipython",
    "version": 3
   },
   "file_extension": ".py",
   "mimetype": "text/x-python",
   "name": "python",
   "nbconvert_exporter": "python",
   "pygments_lexer": "ipython3",
   "version": "3.7.3"
  }
 },
 "nbformat": 4,
 "nbformat_minor": 2
}
