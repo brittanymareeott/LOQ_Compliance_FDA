{
 "cells": [
  {
   "cell_type": "markdown",
   "metadata": {},
   "source": [
    "# LOQ COMPLIANCE PROGRAM NOTEBOOK"
   ]
  },
  {
   "cell_type": "markdown",
   "metadata": {},
   "source": [
    "Printing hello world as a test (to check out it exports usable code)"
   ]
  },
  {
   "cell_type": "code",
   "execution_count": null,
   "metadata": {},
   "outputs": [],
   "source": [
    "print(\"Hello World\")"
   ]
  },
  {
   "cell_type": "markdown",
   "metadata": {},
   "source": [
    "Exporting works, so now to list the functions of the program to be created, in order from the most basic to all of the bells and whistles. The most basic options (points 1-XX) are what will be necessary for a \"successful\" program. The options beyond that are the \"bells and whistles\"."
   ]
  },
  {
   "cell_type": "markdown",
   "metadata": {},
   "source": [
    "### The \"Must Haves\":\n",
    "\n",
    "Input by user:\n",
    "\n",
    "1. Total Diet Study `.txt` file, which is tab-delimited and format it to allow for analysis\n",
    "   \n",
    "2. \"Analyte Type\", which will be the column containing the \"Analyte\" that is desired for output\n",
    "   \n",
    "3. \"Analyte\", which is what is being measured in the Total Diet Study\n",
    "   \n",
    "4. Optional: New Cut off concentration (default = 0)\n",
    "\n",
    "The program must take all of the above files and parameters and output a new `.txt` file containing only rows that have the Analyte requested.\n",
    "\n",
    "Additional, \"behind the scenes\", processing.\n",
    "\n",
    "1. Do NOT include any rows that contain \"RAP\" (generally in the \"Sample Qualifier\" column)\n",
    "   \n",
    "2. Check the provided LOQ (limit of quantitation) column and compare it with the \"Conc\" (concentration) observed column. If the LOQ is GREATER than the Conc, then the row is not included in the output, as any values below the LOQ cannot be certain.\n",
    "   \n",
    "3. If no new cut off concentration is provided (item #5 from user input), then the program will default to \"zero tolerance\", meaning anything above zero and the LOQ will be output. If a new cut off IS provided, then this will output anything above the new cut off that is also above the LOQ."
   ]
  },
  {
   "cell_type": "markdown",
   "metadata": {},
   "source": [
    "### The \"Bells and Whistles\":\n",
    "\n",
    "1. Have the option to disallow the progression of the run if the requested concentration cut off is less than the LOQ provided (item #4 in the \"Behind the Scenes\" processing.\n",
    "\n",
    "2. Find and convert any units in the \"Unit\" column that are not `mg/kg`.\n",
    "\n",
    "3. Optional: Food Number (ignore if not provided)\n",
    "    * If provided, and if the requested new cut off concentration is less than the LOQ, a warning will be printed \"Your requested concentration cut off is less than the LOQ provided for your requested analyte\""
   ]
  },
  {
   "cell_type": "code",
   "execution_count": 3,
   "metadata": {},
   "outputs": [
    {
     "name": "stdout",
     "output_type": "stream",
     "text": [
      "3.7.3\n"
     ]
    }
   ],
   "source": [
    "# testing to see what this notebook is running\n",
    "from platform import python_version\n",
    "print(python_version())"
   ]
  },
  {
   "cell_type": "markdown",
   "metadata": {},
   "source": [
    "## THE CODE BEGINS"
   ]
  },
  {
   "cell_type": "markdown",
   "metadata": {},
   "source": [
    "#### Import packages and parse/define arguments"
   ]
  },
  {
   "cell_type": "code",
   "execution_count": 4,
   "metadata": {},
   "outputs": [],
   "source": [
    "# import the necessary packages\n",
    "import csv\n",
    "import pandas as pd\n",
    "import numpy as np\n",
    "from pandas import DataFrame\n",
    "import argparse\n",
    "import sys\n",
    "import chardet"
   ]
  },
  {
   "cell_type": "code",
   "execution_count": 7,
   "metadata": {},
   "outputs": [
    {
     "name": "stderr",
     "output_type": "stream",
     "text": [
      "usage: ipykernel_launcher.py [-h] --file FILE --analyte ANALYTE --type TYPE\n",
      "                             --out OUT [--number NUMBER] [--cutoff CUTOFF]\n",
      "ipykernel_launcher.py: error: the following arguments are required: --file, --analyte, --type, --out\n"
     ]
    },
    {
     "ename": "SystemExit",
     "evalue": "2",
     "output_type": "error",
     "traceback": [
      "An exception has occurred, use %tb to see the full traceback.\n",
      "\u001b[0;31mSystemExit\u001b[0m\u001b[0;31m:\u001b[0m 2\n"
     ]
    }
   ],
   "source": [
    "# Parsing arguments with argparse\n",
    "parser = argparse.ArgumentParser(description = 'This script allows data selection for various requested analytes from Total Diet Studies at the FDA.')\n",
    "parser.add_argument('--file', required=True, help='The Total Diet Study file to be analyzed.')\n",
    "parser.add_argument('--analyte', required=True, help='The analyte that is to be extracted, e.g. Arsenic.')\n",
    "parser.add_argument('--type', required=True, help='The type of analyte that the Total Diet Study input file is measuring, e.g. Element.')\n",
    "parser.add_argument('--number', required=False, help='optional: The Food Number associated with a specific food.')\n",
    "parser.add_argument('--cutoff', required=False, type=float, help='optional: Specifiy a new cut-off concentration, default=None.')\n",
    "parser.add_argument('--filename', required=False, default='outfile', help='optional: name of the file, default=outfile.txt, output as TSV')\n",
    "args = parser.parse_args()"
   ]
  },
  {
   "cell_type": "markdown",
   "metadata": {},
   "source": [
    "#### TESTING: Tested argparse by generating `test_argparse.py` in the `tests` folder of the project. Used it by running the following command:\n",
    "\n",
    "\n",
    "`python test_argparse.py --file ~/Desktop/Python_program/Individual\\ Year\\ Analytical\\ Results_0/Elements_2003.txt --analyte Arsenic --type Element --out ~/Desktop/Python_program/LOQ_Compliance/tests/`\n",
    "\n",
    "\n",
    "And retrieved the following output:\n",
    "\n",
    "`Namespace(analyte='Arsenic', cutoff=None, file='/Users/brittany.ott/Desktop/Python_program/Individual Year Analytical Results_0/Elements_2003.txt', number=None, out='/Users/brittany.ott/Desktop/Python_program/LOQ_Compliance/tests/', type='Element')`\n",
    "\n",
    "So, the next step is being able to process the `.txt` file containing our data.\n",
    "\n",
    "This little script was used to test many by having it print out different results (such as the type of one of my arguments)."
   ]
  },
  {
   "cell_type": "markdown",
   "metadata": {},
   "source": [
    "#### Cleaning up the data"
   ]
  },
  {
   "cell_type": "code",
   "execution_count": null,
   "metadata": {},
   "outputs": [],
   "source": [
    "# determining the file encoding for reading by pandas\n",
    "rawdata = open(args.file, 'rb').read()\n",
    "result = chardet.detect(rawdata)\n",
    "charenc = result['encoding']"
   ]
  },
  {
   "cell_type": "markdown",
   "metadata": {},
   "source": [
    "#### Processing the input file"
   ]
  },
  {
   "cell_type": "code",
   "execution_count": null,
   "metadata": {},
   "outputs": [],
   "source": [
    "# reading in the file\n",
    "file = pd.read_csv(args.file, sep='\\t', encoding=charenc)\n",
    "\n",
    "# obtaining the rows that contain the desired analyte\n",
    "df1 = file[file[args.type].str.contains(args.analyte)]\n",
    "\n",
    "#incorporating food number; currently sorting this out\n",
    "#df2 = df1[df1['Food No.'].str.contains(args.number))]\n",
    "\n",
    "# removes rows containing RAP\n",
    "df_remove = df1[df1['Sample Qualifier'].str.contains('UAP', '', na=True, regex=False)]"
   ]
  },
  {
   "cell_type": "markdown",
   "metadata": {},
   "source": [
    "#### Checking against LOQ"
   ]
  },
  {
   "cell_type": "code",
   "execution_count": null,
   "metadata": {},
   "outputs": [],
   "source": [
    "# generating a dataframe that compares the concentration detected to a cut off\n",
    "if args.cutoff == None:\n",
    "\tLOQ_compliant = df_remove[df_remove['Conc'] > df_remove['LOQ']] # if no cutoff is provided\n",
    "else:\n",
    "\tLOQ_compliant = df_remove[df_remove['Conc'] > args.cutoff] # if a cutoff is provided\n",
    "\n",
    "No_detect = df_remove[df_remove['Conc'] == 0]"
   ]
  },
  {
   "cell_type": "markdown",
   "metadata": {},
   "source": [
    "#### Generating output files"
   ]
  },
  {
   "cell_type": "code",
   "execution_count": null,
   "metadata": {},
   "outputs": [],
   "source": [
    "# Code for printing LOQ compliant to a file \n",
    "if args.filename == None:\n",
    "\toutput_LOQ = open('outfile.txt', 'w')\n",
    "else:\n",
    "\toutput_LOQ = open(args.filename + '_outfile.txt', 'w')\n",
    "\n",
    "LOQ_compliant.to_csv(output_LOQ, sep='\\t')\n",
    "\n",
    "output_LOQ.close()\n",
    "\n",
    "# Code for printing the No Detect to a file\n",
    "if args.filename == None:\n",
    "\toutput_nodetect = open('No_detect.txt', 'w')\n",
    "else:\n",
    "\toutput_nodetect = open(args.filename + '_nodetect.txt', 'w')\n",
    "\n",
    "No_detect.to_csv(output_nodetect, sep='\\t')\n",
    "\n",
    "output_nodetect.close()"
   ]
  },
  {
   "cell_type": "markdown",
   "metadata": {},
   "source": [
    "#### Conclusions\n",
    "\n",
    "Test iteration 6 is the program that has the most basic functionality.\n",
    "\n",
    "If you run `python test_csv6.py --help`:"
   ]
  },
  {
   "cell_type": "code",
   "execution_count": null,
   "metadata": {},
   "outputs": [],
   "source": [
    "usage: test_csv6.py [-h] --file FILE --analyte ANALYTE --type TYPE\n",
    "                    [--number NUMBER] [--cutoff CUTOFF] [--filename FILENAME]\n",
    "\n",
    "This script allows data selection for various requested analytes from Total\n",
    "Diet Studies at the FDA.\n",
    "\n",
    "optional arguments:\n",
    "  -h, --help           show this help message and exit\n",
    "  --file FILE          The Total Diet Study file to be analyzed.\n",
    "  --analyte ANALYTE    The analyte that is to be extracted, e.g. Arsenic.\n",
    "  --type TYPE          The type of analyte that the Total Diet Study input\n",
    "                       file is measuring, e.g. Element.\n",
    "  --number NUMBER      optional: The Food Number associated with a specific\n",
    "                       food.\n",
    "  --cutoff CUTOFF      optional: Specifiy a new cut-off concentration,\n",
    "                       default=None.\n",
    "  --filename FILENAME  optional: name of the file, default=outfile.txt, output\n",
    "                       as TSV\n"
   ]
  },
  {
   "cell_type": "markdown",
   "metadata": {},
   "source": [
    "If you run the following command:"
   ]
  },
  {
   "cell_type": "code",
   "execution_count": null,
   "metadata": {},
   "outputs": [],
   "source": [
    "python test_csv6.py --file /<PATH>/Elements_2003.txt --analyte Arsenic --type Element --cutoff 0.001 --filename Elements_2003"
   ]
  },
  {
   "cell_type": "markdown",
   "metadata": {},
   "source": [
    "Two files will emerge with the desired aspects, one containing all samples above the requested cutoff and one containing all samples where nothing was detected for the analyte requested. If you run it without a cutoff, *everything* is returned that is above the LOQ provided for that element in that specific food type/category (as specified in the file)."
   ]
  }
 ],
 "metadata": {
  "kernelspec": {
   "display_name": "Python 3",
   "language": "python",
   "name": "python3"
  },
  "language_info": {
   "codemirror_mode": {
    "name": "ipython",
    "version": 3
   },
   "file_extension": ".py",
   "mimetype": "text/x-python",
   "name": "python",
   "nbconvert_exporter": "python",
   "pygments_lexer": "ipython3",
   "version": "3.7.3"
  }
 },
 "nbformat": 4,
 "nbformat_minor": 2
}
