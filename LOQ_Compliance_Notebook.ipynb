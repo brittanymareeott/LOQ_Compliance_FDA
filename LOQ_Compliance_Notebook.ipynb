{
 "cells": [
  {
   "cell_type": "markdown",
   "metadata": {},
   "source": [
    "# LOQ COMPLIANCE PROGRAM NOTEBOOK"
   ]
  },
  {
   "cell_type": "markdown",
   "metadata": {},
   "source": [
    "Printing hello world as a test (to check out it exports usable code)"
   ]
  },
  {
   "cell_type": "code",
   "execution_count": null,
   "metadata": {},
   "outputs": [],
   "source": [
    "print(\"Hello World\")"
   ]
  },
  {
   "cell_type": "markdown",
   "metadata": {},
   "source": [
    "Exporting works, so now to list the functions of the program to be created, in order from the most basic to all of the bells and whistles. The most basic options (points 1-XX) are what will be necessary for a \"successful\" program. The options beyond that are the \"bells and whistles\"."
   ]
  },
  {
   "cell_type": "markdown",
   "metadata": {},
   "source": [
    "### The \"Must Haves\":\n",
    "\n",
    "Input by user:\n",
    "\n",
    "1. Total Diet Study `.txt` file, which is tab-delimited and format it to allow for analysis\n",
    "   \n",
    "2. \"Analyte Type\", which will be the column containing the \"Analyte\" that is desired for output\n",
    "   \n",
    "3. \"Analyte\", which is what is being measured in the Total Diet Study\n",
    "   \n",
    "4. Optional: Food Number (ignore if not provided)\n",
    "   \n",
    "5. Optional: New Cut off concentration (default = 0)\n",
    "\n",
    "The program must take all of the above files and parameters and output a new `.txt` file containing only rows that have the Analyte requested.\n",
    "\n",
    "Additional, \"behind the scenes\", processing.\n",
    "\n",
    "1. Do NOT include any rows that contain \"RAP\" (generally in the \"Sample Qualifier\" column)\n",
    "   \n",
    "2. Check the provided LOQ (limit of quantitation) column and compare it with the \"Conc\" (concentration) observed column. If the LOQ is GREATER than the Conc, then the row is not included in the output, as any values below the LOQ cannot be certain.\n",
    "   \n",
    "3. If no new cut off concentration is provided (item #5 from user input), then the program will default to \"zero tolerance\", meaning anything above zero and the LOQ will be output. If a new cut off IS provided, then this will output anything above the new cut off that is also above the LOQ.\n",
    "   \n",
    "4. If the requested new cut off concentration is less than the LOQ, a warning will be printed \"Your requested concentration cut off is less than the LOQ provided for your requested analyte\""
   ]
  },
  {
   "cell_type": "markdown",
   "metadata": {},
   "source": [
    "### The \"Bells and Whistles\":\n",
    "\n",
    "1. Have the option to disallow the progression of the run if the requested concentration cut off is less than the LOQ provided (item #4 in the \"Behind the Scenes\" processing.\n",
    "\n",
    "2. Find and convert any units in the \"Unit\" column that are not `mg/kg`."
   ]
  },
  {
   "cell_type": "markdown",
   "metadata": {},
   "source": [
    "## THE CODE BEGINS"
   ]
  },
  {
   "cell_type": "code",
   "execution_count": null,
   "metadata": {},
   "outputs": [],
   "source": []
  }
 ],
 "metadata": {
  "kernelspec": {
   "display_name": "Python 3",
   "language": "python",
   "name": "python3"
  },
  "language_info": {
   "codemirror_mode": {
    "name": "ipython",
    "version": 3
   },
   "file_extension": ".py",
   "mimetype": "text/x-python",
   "name": "python",
   "nbconvert_exporter": "python",
   "pygments_lexer": "ipython3",
   "version": "3.7.3"
  }
 },
 "nbformat": 4,
 "nbformat_minor": 2
}
